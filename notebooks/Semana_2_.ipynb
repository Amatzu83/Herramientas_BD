{
  "nbformat": 4,
  "nbformat_minor": 0,
  "metadata": {
    "colab": {
      "provenance": [],
      "collapsed_sections": []
    },
    "kernelspec": {
      "name": "python3",
      "display_name": "Python 3"
    },
    "language_info": {
      "name": "python"
    }
  },
  "cells": [
    {
      "cell_type": "code",
      "source": [
        "import numpy as np\n",
        "import matplotlib.pyplot as plt  #para graficar\n",
        "import scipy\n",
        "import cvxopt"
      ],
      "metadata": {
        "id": "bZo6tcISXUkA"
      },
      "execution_count": null,
      "outputs": []
    },
    {
      "cell_type": "markdown",
      "source": [
        "**COMENTARIOS**"
      ],
      "metadata": {
        "id": "hRwCV_rKGwhl"
      }
    },
    {
      "cell_type": "code",
      "execution_count": null,
      "metadata": {
        "colab": {
          "base_uri": "https://localhost:8080/",
          "height": 35
        },
        "id": "bXTFxGDxcx1w",
        "outputId": "51af9e8c-a4d9-44a9-c689-c4edb42cc4a1"
      },
      "outputs": [
        {
          "output_type": "execute_result",
          "data": {
            "text/plain": [
              "'Esto es un comentario de \\nvarias líneas'"
            ],
            "application/vnd.google.colaboratory.intrinsic+json": {
              "type": "string"
            }
          },
          "metadata": {},
          "execution_count": 137
        }
      ],
      "source": [
        "#Esto es un comentario de una línea\n",
        "\"\"\"Esto es un comentario de \n",
        "varias líneas\"\"\""
      ]
    },
    {
      "cell_type": "code",
      "source": [
        "\"\"\" Este es un comentario multilinea. La\n",
        "siguiente parte realiza una serie\n",
        "de cosas muy interesantes \"\"\""
      ],
      "metadata": {
        "colab": {
          "base_uri": "https://localhost:8080/",
          "height": 35
        },
        "id": "fPo5fDKqib-x",
        "outputId": "4a0c301c-3e5e-4aa4-ee7d-0e2a7e64bb36"
      },
      "execution_count": null,
      "outputs": [
        {
          "output_type": "execute_result",
          "data": {
            "text/plain": [
              "' Este es un comentario multilinea. La\\nsiguiente parte realiza una serie\\nde cosas muy interesantes '"
            ],
            "application/vnd.google.colaboratory.intrinsic+json": {
              "type": "string"
            }
          },
          "metadata": {},
          "execution_count": 138
        }
      ]
    },
    {
      "cell_type": "markdown",
      "source": [
        "**VARIABLES**"
      ],
      "metadata": {
        "id": "YYHl7vekHOn8"
      }
    },
    {
      "cell_type": "code",
      "source": [
        "#Constantes: imprimimos y comprobamos los resultados"
      ],
      "metadata": {
        "id": "wYD6kf4qij26"
      },
      "execution_count": null,
      "outputs": []
    },
    {
      "cell_type": "code",
      "source": [
        "print(\"Esto es una constante numérica:\" + str(12345))"
      ],
      "metadata": {
        "colab": {
          "base_uri": "https://localhost:8080/"
        },
        "id": "qhWADE_NivX1",
        "outputId": "0d0c67f1-d868-46a2-9231-4f2bc13320b7"
      },
      "execution_count": null,
      "outputs": [
        {
          "output_type": "stream",
          "name": "stdout",
          "text": [
            "Esto es una constante numérica:12345\n"
          ]
        }
      ]
    },
    {
      "cell_type": "code",
      "source": [
        "print(\"Esto es una cadena de texto:\" + \"Hola que tal\")"
      ],
      "metadata": {
        "colab": {
          "base_uri": "https://localhost:8080/"
        },
        "id": "O3SW6QDAjM_T",
        "outputId": "b012d066-97f6-470b-86b6-3bd5c8763c3c"
      },
      "execution_count": null,
      "outputs": [
        {
          "output_type": "stream",
          "name": "stdout",
          "text": [
            "Esto es una cadena de texto:Hola que tal\n"
          ]
        }
      ]
    },
    {
      "cell_type": "code",
      "source": [
        "#Variable numérica\n",
        "variable_numerica = 3"
      ],
      "metadata": {
        "id": "9mu6PfLLji5t"
      },
      "execution_count": null,
      "outputs": []
    },
    {
      "cell_type": "code",
      "source": [
        "#Variable cadena de texto (string)\n",
        "variable_string =\"Hola\"\n",
        "print(\"Esto es una constante numérica:\" + str(variable_numerica))\n",
        "print(\"Esto es una cadena de texto:\" + variable_string)"
      ],
      "metadata": {
        "colab": {
          "base_uri": "https://localhost:8080/"
        },
        "id": "a7nHNPaHjs_N",
        "outputId": "8689cb97-e38d-4765-e774-a46b140f0d81"
      },
      "execution_count": null,
      "outputs": [
        {
          "output_type": "stream",
          "name": "stdout",
          "text": [
            "Esto es una constante numérica:3\n",
            "Esto es una cadena de texto:Hola\n"
          ]
        }
      ]
    },
    {
      "cell_type": "code",
      "source": [
        "#Los nombres son sensibles a las mayúsculas\n",
        "Variable =5\n",
        "variable =2\n",
        "print(Variable)\n",
        "print(variable)"
      ],
      "metadata": {
        "id": "65TVr819ksnn",
        "colab": {
          "base_uri": "https://localhost:8080/"
        },
        "outputId": "06a967c9-76a9-4a24-ffbf-5a8a62874426"
      },
      "execution_count": null,
      "outputs": [
        {
          "output_type": "stream",
          "name": "stdout",
          "text": [
            "5\n",
            "2\n"
          ]
        }
      ]
    },
    {
      "cell_type": "code",
      "source": [
        "#Si queremos declarar un valor constante para todo el programa, y no queremos introducir el valor exacto de forma reiterada \n",
        "#podemos hacer así:\n",
        "CONSTANTE_PRUEBA=5"
      ],
      "metadata": {
        "id": "jU2ADsylmTCB"
      },
      "execution_count": null,
      "outputs": []
    },
    {
      "cell_type": "code",
      "source": [
        "#Python tiene los siguientes tipos de datos integrados de forma predeterminada, en estas categorías:\n",
        "#Tipo de texto:\tstr\n",
        "#Tipos numéricos:\tint, float, complex\n",
        "#Tipos de secuencia:\tlist, tuple, range\n",
        "#Tipo de mapeo:\tdict\n",
        "#Establecer tipos:\tset,frozenset\n",
        "#Tipo booleano:\tbool\n",
        "#Tipos binarios:\tbytes, bytearray, memoryview\n",
        "#Ninguno Tipo:\tNoneType"
      ],
      "metadata": {
        "id": "CAE0W0f54VON"
      },
      "execution_count": null,
      "outputs": []
    },
    {
      "cell_type": "code",
      "source": [
        "x = \"Hello World\" #Tipo de texto:\tstr\n",
        "#display x:\n",
        "print(x)\n",
        "\n",
        "#display the data type of x:\n",
        "print(type(x)) \n",
        "\n",
        "x = 20 #Tipos numéricos:\tint\n",
        "x = 20.5 #Tipos numéricos: float\n",
        "x = 1j #Tipos numéricos: complex\n",
        "x = [\"apple\", \"banana\", \"cherry\"] #Tipos de secuencia:\tlist\n",
        "x = (\"apple\", \"banana\", \"cherry\") #Tipos de secuencia: tuple\n",
        "x = range(6) #Tipos de secuencia: range\n",
        "x = {\"name\" : \"John\", \"age\" : 36} #Tipo de mapeo:\tdict\n",
        "x = {\"apple\", \"banana\", \"cherry\"} #Establecer tipos:\tset\n",
        "x = frozenset({\"apple\", \"banana\", \"cherry\"}) #Establecer tipos:frozenset \n",
        "#Los frozenset en Python son una estructura de datos muy similar a los set, con la salvedad de que son inmutables, \n",
        "#es decir, no pueden ser modificados una vez declarados.\n",
        "x = True #Tipo booleano:\tbool\n",
        "x = b\"Hello\" #Tipos binarios:\tbytes, \n",
        "x = bytearray(5) # Tipo binarios: bytearray\n",
        "#bytearray():Es el método que devuelve un objeto bytearray (es decir, una matriz de bytes) que es mutable (se puede modificar)\n",
        "x = memoryview(bytes(5)) #Tipo memoryview\n",
        "x = None #Tipo:\tNoneType"
      ],
      "metadata": {
        "colab": {
          "base_uri": "https://localhost:8080/"
        },
        "id": "dPl4xxiZ4leX",
        "outputId": "7cc69f39-9d94-42b9-ff6b-adec319059b8"
      },
      "execution_count": null,
      "outputs": [
        {
          "output_type": "stream",
          "name": "stdout",
          "text": [
            "Hello World\n",
            "<class 'str'>\n"
          ]
        }
      ]
    },
    {
      "cell_type": "code",
      "source": [
        "#Podemos saber el tipo de variable concreta con la fucnión Type\n",
        "#str (cadena de texto)\n",
        "#int (entero)\n",
        "#float (número real)\n",
        "#¿De qué tipo es la variable?\n",
        "print(type(variable))\n",
        "#¿De qué tipo es la variable_string?\n",
        "print(type(variable_string))"
      ],
      "metadata": {
        "colab": {
          "base_uri": "https://localhost:8080/"
        },
        "id": "vrPe3ds0mxYx",
        "outputId": "d4fd4b94-e3bc-480f-e874-c5ef569565ea"
      },
      "execution_count": null,
      "outputs": [
        {
          "output_type": "stream",
          "name": "stdout",
          "text": [
            "<class 'int'>\n",
            "<class 'str'>\n"
          ]
        }
      ]
    },
    {
      "cell_type": "code",
      "source": [
        "#Conversión de tipos\n",
        "numero_real =3.96\n",
        "print(numero_real)\n",
        "print(str(numero_real))\n",
        "print(type(numero_real))\n",
        "print(type(str(numero_real)))\n",
        "print(int(numero_real))\n",
        "print(int(\"5\"))"
      ],
      "metadata": {
        "colab": {
          "base_uri": "https://localhost:8080/"
        },
        "id": "hQGGGoRZnmYn",
        "outputId": "d191c7cd-07e6-4aee-f5e7-f61da6a532be"
      },
      "execution_count": null,
      "outputs": [
        {
          "output_type": "stream",
          "name": "stdout",
          "text": [
            "3.96\n",
            "3.96\n",
            "<class 'float'>\n",
            "<class 'str'>\n",
            "3\n",
            "5\n"
          ]
        }
      ]
    },
    {
      "cell_type": "code",
      "source": [
        "#Tipo de datos complejos\n",
        "#Acceso a elementos de una cadena mediante la posición\n",
        "cadena= \"Esto es una cadena\"\n",
        "print(cadena[5]) # ten en cuenta que el índice comienza en cero\n",
        "print(cadena[5:9]) #Rango de valores de 5 a 9\n",
        "print(cadena [:5]) #Hasta 5\n",
        "print(cadena[5:]) #de 5 en adelante\n",
        "print(len(cadena)) #longitud"
      ],
      "metadata": {
        "colab": {
          "base_uri": "https://localhost:8080/"
        },
        "id": "8O2A9yvsov8G",
        "outputId": "71e852b7-8f55-495a-c46a-67cc05c92e1c"
      },
      "execution_count": null,
      "outputs": [
        {
          "output_type": "stream",
          "name": "stdout",
          "text": [
            "e\n",
            "es u\n",
            "Esto \n",
            "es una cadena\n",
            "18\n"
          ]
        }
      ]
    },
    {
      "cell_type": "code",
      "source": [
        "#Los conjuntos son colecciones no ordenadas y sin elementos repetidos.\n",
        "#Conjuntos en Python\n",
        "gastronomia = {'ajiaco','paella','cocido','empanada','hamburguesa'}\n",
        "print(gastronomia)\n",
        "print(type(gastronomia))\n",
        "print(gastronomia.pop())#elimina al azar un elemento del conjunto\n",
        "print(gastronomia) # cocido ha desaperecido\n"
      ],
      "metadata": {
        "colab": {
          "base_uri": "https://localhost:8080/"
        },
        "id": "2ZDaiFU8vorv",
        "outputId": "cf7a7008-36dd-4ec1-c941-c3fd5edb5ade"
      },
      "execution_count": null,
      "outputs": [
        {
          "output_type": "stream",
          "name": "stdout",
          "text": [
            "{'cocido', 'hamburguesa', 'paella', 'ajiaco', 'empanada'}\n",
            "<class 'set'>\n",
            "cocido\n",
            "{'hamburguesa', 'paella', 'ajiaco', 'empanada'}\n"
          ]
        }
      ]
    },
    {
      "cell_type": "code",
      "source": [
        "#Elementos del conjunto\n",
        "print(next(iter(gastronomia)))"
      ],
      "metadata": {
        "colab": {
          "base_uri": "https://localhost:8080/"
        },
        "id": "x-QwDssYwywP",
        "outputId": "5f381bbf-e029-4a2d-cdb6-dbe842074adb"
      },
      "execution_count": null,
      "outputs": [
        {
          "output_type": "stream",
          "name": "stdout",
          "text": [
            "ajiaco\n"
          ]
        }
      ]
    },
    {
      "cell_type": "code",
      "source": [
        "marks = [65, 71, 68, 74, 61]\n",
        "print(marks)\n",
        "# convertir lista a iterador\n",
        "iterator_marks = iter(marks)\n",
        "\n",
        "#La función next() devuelve el siguiente elemento del iterador.\n",
        "# el siguiente elemento es el primer elemento\n",
        "marks_1 = next(iterator_marks)\n",
        "print(marks_1)\n",
        "\n",
        "# encontrar el siguiente elemento que es el segundo elemento\n",
        "marks_2 = next(iterator_marks)\n",
        "print(marks_2)\n",
        "\n",
        "# encontrar el siguiente elemento que es el segundo elemento\n",
        "marks_3 = next(iterator_marks)\n",
        "print(marks_3)"
      ],
      "metadata": {
        "colab": {
          "base_uri": "https://localhost:8080/"
        },
        "id": "1vrhbkYGx7As",
        "outputId": "263742a1-3872-4f2d-d912-77fbac14464a"
      },
      "execution_count": null,
      "outputs": [
        {
          "output_type": "stream",
          "name": "stdout",
          "text": [
            "[65, 71, 68, 74, 61]\n",
            "65\n",
            "71\n",
            "68\n"
          ]
        }
      ]
    },
    {
      "cell_type": "code",
      "source": [
        "#Las listas son una de las estructuras más frecuente en Python, permite acumular y\n",
        "#manipular datos de forma sencilla.\n",
        "#Trabajando con listas\n",
        "gastronomia=['ajiaco','paella','cocido','empanada','hamburguesa']\n",
        "#tipo?\n",
        "print(type(gastronomia))\n",
        "print(len(gastronomia))"
      ],
      "metadata": {
        "colab": {
          "base_uri": "https://localhost:8080/"
        },
        "id": "WI8_tG4K0t62",
        "outputId": "8b9f4f7f-afd3-4043-c9a4-873e0ff1c713"
      },
      "execution_count": null,
      "outputs": [
        {
          "output_type": "stream",
          "name": "stdout",
          "text": [
            "<class 'list'>\n",
            "5\n"
          ]
        }
      ]
    },
    {
      "cell_type": "code",
      "source": [
        "#Asignar una variable a la lista\n",
        "platos_tipicos=set(gastronomia)\n",
        "print(platos_tipicos)\n",
        "print(type(platos_tipicos))"
      ],
      "metadata": {
        "colab": {
          "base_uri": "https://localhost:8080/"
        },
        "id": "0XC9GPqj1yWT",
        "outputId": "9dfb4c34-0b67-48d8-e923-c30f4d26d204"
      },
      "execution_count": null,
      "outputs": [
        {
          "output_type": "stream",
          "name": "stdout",
          "text": [
            "{'hamburguesa', 'ajiaco', 'cocido', 'empanada', 'paella'}\n",
            "<class 'set'>\n"
          ]
        }
      ]
    },
    {
      "cell_type": "code",
      "source": [
        "#Condicionales\n",
        "En_Bogota= 'ajiaco' in platos_tipicos\n",
        "print(En_Bogota)"
      ],
      "metadata": {
        "colab": {
          "base_uri": "https://localhost:8080/"
        },
        "id": "z9H7J2r12TFp",
        "outputId": "fc70131c-fe46-4800-9b30-64201442dbd5"
      },
      "execution_count": null,
      "outputs": [
        {
          "output_type": "stream",
          "name": "stdout",
          "text": [
            "True\n"
          ]
        }
      ]
    },
    {
      "cell_type": "code",
      "source": [
        "gastronomia.insert(len(gastronomia), 'frijoles') #insertar al final\n",
        "print(gastronomia)"
      ],
      "metadata": {
        "colab": {
          "base_uri": "https://localhost:8080/"
        },
        "id": "EKNYVPWqAt_X",
        "outputId": "f10caf1c-47c3-4bab-9fcb-bc1baed5d97c"
      },
      "execution_count": null,
      "outputs": [
        {
          "output_type": "stream",
          "name": "stdout",
          "text": [
            "['ajiaco', 'paella', 'cocido', 'empanada', 'hamburguesa', 'frijoles']\n"
          ]
        }
      ]
    },
    {
      "cell_type": "code",
      "source": [
        "# crear una lista de vocales\n",
        "vowel = ['a', 'e', 'i', 'u']\n",
        "\n",
        "# 'o' se inserta en la cuarta posición\n",
        "vowel.insert(3, 'o')\n",
        "\n",
        "print('List:', vowel)\n",
        "\n",
        "# Output: List: ['a', 'e', 'i', 'o', 'u']"
      ],
      "metadata": {
        "colab": {
          "base_uri": "https://localhost:8080/"
        },
        "id": "Ut-PKgJVBhQm",
        "outputId": "446e41d1-db85-411a-e122-262e0165bd30"
      },
      "execution_count": null,
      "outputs": [
        {
          "output_type": "stream",
          "name": "stdout",
          "text": [
            "List: ['a', 'e', 'i', 'o', 'u']\n"
          ]
        }
      ]
    },
    {
      "cell_type": "code",
      "source": [
        "# El index()método devuelve el índice del elemento especificado en la lista.\n",
        "animals = ['cat', 'dog', 'rabbit', 'horse']\n",
        "\n",
        "# obtener el índice de 'dog'\n",
        "index = animals.index('dog')\n",
        "\n",
        "print(index)\n",
        "\n",
        "# Output: 1"
      ],
      "metadata": {
        "colab": {
          "base_uri": "https://localhost:8080/"
        },
        "id": "7IjniWKKCd_J",
        "outputId": "b64ae5cb-7be5-43d0-b8e5-981a4a743d7b"
      },
      "execution_count": null,
      "outputs": [
        {
          "output_type": "stream",
          "name": "stdout",
          "text": [
            "1\n"
          ]
        }
      ]
    },
    {
      "cell_type": "code",
      "source": [
        "#Por último, mencionaremos las tuplas, una tupla es una lista inmutable.\n",
        "#Las tuplas se utilizan para almacenar varios elementos en una sola variable.\n",
        "tupla=[1,2,3,4,5]\n",
        "print(tupla)\n",
        "tupla[0]=99\n",
        "print(tupla) #por eso esto no es una tupla\n"
      ],
      "metadata": {
        "colab": {
          "base_uri": "https://localhost:8080/"
        },
        "id": "__0z1NM8DBwl",
        "outputId": "c31ac4d4-28f2-4ebc-9c58-3d77b2c384f1"
      },
      "execution_count": null,
      "outputs": [
        {
          "output_type": "stream",
          "name": "stdout",
          "text": [
            "[1, 2, 3, 4, 5]\n",
            "[99, 2, 3, 4, 5]\n"
          ]
        }
      ]
    },
    {
      "cell_type": "code",
      "source": [
        "tupla2={1,2,3,4,5}\n",
        "print(tupla2)\n",
        "#tupla2[0]=99 #Algo salió mal\n",
        "#Por esto tupla2 sí es una tupla"
      ],
      "metadata": {
        "colab": {
          "base_uri": "https://localhost:8080/"
        },
        "id": "9_t0_ng1EtT1",
        "outputId": "75c442bc-c6d2-400e-f8e3-ec8e4c8e1061"
      },
      "execution_count": null,
      "outputs": [
        {
          "output_type": "stream",
          "name": "stdout",
          "text": [
            "{1, 2, 3, 4, 5}\n"
          ]
        }
      ]
    },
    {
      "cell_type": "code",
      "source": [
        "#Otra estructura de datos interesante es el diccionario. Un diccionario permite\n",
        "#identificar a sus elementos a través de una clave. La siguiente imagen muestra un\n",
        "#ejemplo típico de uso."
      ],
      "metadata": {
        "id": "B_vdmu8pFNDk"
      },
      "execution_count": null,
      "outputs": []
    },
    {
      "cell_type": "code",
      "source": [
        "#Diccionarios\n",
        "diccionario={'nombre': 'Juan', 'edad':22, 'cursos': ['Python', 'Machine Learning', 'R']}\n",
        "#Accediendo a los valores\n",
        "print(diccionario['nombre'])\n",
        "print(diccionario['edad'])\n",
        "print(diccionario['cursos'])"
      ],
      "metadata": {
        "colab": {
          "base_uri": "https://localhost:8080/"
        },
        "id": "VJ_n6o50GL6o",
        "outputId": "9811ad8a-9f78-4f45-8f72-cad055ca2a8e"
      },
      "execution_count": null,
      "outputs": [
        {
          "output_type": "stream",
          "name": "stdout",
          "text": [
            "Juan\n",
            "22\n",
            "['Python', 'Machine Learning', 'R']\n"
          ]
        }
      ]
    },
    {
      "cell_type": "code",
      "source": [
        "#Recorrido modo lista\n",
        "print(diccionario['cursos'][0])\n",
        "#Recorrer todo el diccionario\n",
        "for key in diccionario:\n",
        "  print(key,\":\",diccionario[key])"
      ],
      "metadata": {
        "colab": {
          "base_uri": "https://localhost:8080/"
        },
        "id": "KZ7vS9G3HXcZ",
        "outputId": "c1204c4e-2dc9-4be8-fc2d-960cc9e8f59a"
      },
      "execution_count": null,
      "outputs": [
        {
          "output_type": "stream",
          "name": "stdout",
          "text": [
            "Python\n",
            "nombre : Juan\n",
            "edad : 22\n",
            "cursos : ['Python', 'Machine Learning', 'R']\n"
          ]
        }
      ]
    },
    {
      "cell_type": "code",
      "source": [
        "escalar = 5.679\n",
        "vector = np.array([3,4,5,6])\n",
        "matriz = np.array([[1,2],[3,4],[5,6]])\n",
        "tensor = np.array([\n",
        "    [[1,2,3,30],[4,5,6,31],[7,8,9,32]],\n",
        "    [[11,12,13,33],[14,15,16,34],[17,18,19,35]],\n",
        "    [[21,22,23,36],[24,25,26,37],[27,28,29,38]],\n",
        "])\n",
        "print(escalar)\n",
        "print(vector)\n",
        "print(matriz)\n",
        "print(tensor)"
      ],
      "metadata": {
        "colab": {
          "base_uri": "https://localhost:8080/"
        },
        "id": "KaM95EB3xWWE",
        "outputId": "578110bb-82bb-4a43-d2ab-3d388a2b287d"
      },
      "execution_count": null,
      "outputs": [
        {
          "output_type": "stream",
          "name": "stdout",
          "text": [
            "5.679\n",
            "[3 4 5 6]\n",
            "[[1 2]\n",
            " [3 4]\n",
            " [5 6]]\n",
            "[[[ 1  2  3 30]\n",
            "  [ 4  5  6 31]\n",
            "  [ 7  8  9 32]]\n",
            "\n",
            " [[11 12 13 33]\n",
            "  [14 15 16 34]\n",
            "  [17 18 19 35]]\n",
            "\n",
            " [[21 22 23 36]\n",
            "  [24 25 26 37]\n",
            "  [27 28 29 38]]]\n"
          ]
        }
      ]
    },
    {
      "cell_type": "markdown",
      "source": [
        "***VECTORES***"
      ],
      "metadata": {
        "id": "Bk6bSb9YHZ2Y"
      }
    },
    {
      "cell_type": "code",
      "source": [
        "# Vector como lista de Python\n",
        "v1 = [2, 4, 6]\n",
        "v1"
      ],
      "metadata": {
        "colab": {
          "base_uri": "https://localhost:8080/"
        },
        "id": "UuxMaf5wxpfb",
        "outputId": "7ec9fed4-2243-4ed5-d73e-7db3edb02924"
      },
      "execution_count": null,
      "outputs": [
        {
          "output_type": "execute_result",
          "data": {
            "text/plain": [
              "[2, 4, 6]"
            ]
          },
          "metadata": {},
          "execution_count": 166
        }
      ]
    },
    {
      "cell_type": "code",
      "source": [
        "# Vectores con numpy\n",
        "import numpy as np\n",
        "\n",
        "v2 = np.ones(3) # vector de solo unos.\n",
        "v2"
      ],
      "metadata": {
        "colab": {
          "base_uri": "https://localhost:8080/"
        },
        "id": "AAvqKQwHHmNn",
        "outputId": "f053afb5-8167-4683-c3ac-865561a6bccb"
      },
      "execution_count": null,
      "outputs": [
        {
          "output_type": "execute_result",
          "data": {
            "text/plain": [
              "array([1., 1., 1.])"
            ]
          },
          "metadata": {},
          "execution_count": 167
        }
      ]
    },
    {
      "cell_type": "code",
      "source": [
        "v3 = np.array([1, 3, 5]) # pasando una lista a las arrays de numpy\n",
        "v3"
      ],
      "metadata": {
        "colab": {
          "base_uri": "https://localhost:8080/"
        },
        "id": "-VrJPR4IHsKN",
        "outputId": "f36adcec-bf20-4628-cc26-3401330b31e1"
      },
      "execution_count": null,
      "outputs": [
        {
          "output_type": "execute_result",
          "data": {
            "text/plain": [
              "array([1, 3, 5])"
            ]
          },
          "metadata": {},
          "execution_count": 168
        }
      ]
    },
    {
      "cell_type": "code",
      "source": [
        "v4 = np.arange(1, 8) # utilizando la funcion arange de numpy\n",
        "v4"
      ],
      "metadata": {
        "colab": {
          "base_uri": "https://localhost:8080/"
        },
        "id": "oQK_B4aZHzhR",
        "outputId": "24c2cf00-343b-45da-827d-2c24d6cdbc79"
      },
      "execution_count": null,
      "outputs": [
        {
          "output_type": "execute_result",
          "data": {
            "text/plain": [
              "array([1, 2, 3, 4, 5, 6, 7])"
            ]
          },
          "metadata": {},
          "execution_count": 169
        }
      ]
    },
    {
      "cell_type": "code",
      "source": [
        "np.sort(v4) #ordenar de manera ascendente"
      ],
      "metadata": {
        "colab": {
          "base_uri": "https://localhost:8080/"
        },
        "id": "Hk2CGJ2LrN3g",
        "outputId": "56c93c3d-906f-4a90-fc1e-84726cc8088f"
      },
      "execution_count": null,
      "outputs": [
        {
          "output_type": "execute_result",
          "data": {
            "text/plain": [
              "array([1, 2, 3, 4, 5, 6, 7])"
            ]
          },
          "metadata": {},
          "execution_count": 202
        }
      ]
    },
    {
      "cell_type": "code",
      "source": [
        "-np.sort(-v4) #ordenar de manera descendente"
      ],
      "metadata": {
        "colab": {
          "base_uri": "https://localhost:8080/"
        },
        "id": "eocl02TCrqfX",
        "outputId": "3f759ab4-9030-47a0-f4e6-70834b87fa0a"
      },
      "execution_count": null,
      "outputs": [
        {
          "output_type": "execute_result",
          "data": {
            "text/plain": [
              "array([7, 6, 5, 4, 3, 2, 1])"
            ]
          },
          "metadata": {},
          "execution_count": 203
        }
      ]
    },
    {
      "cell_type": "code",
      "source": [
        "#Matriz unidimensional vertical\n",
        "for i in range(1,7):\n",
        "  print(i)\n",
        "  print('\\n')"
      ],
      "metadata": {
        "colab": {
          "base_uri": "https://localhost:8080/"
        },
        "id": "e-_gyX_1wWdN",
        "outputId": "f2dfaba4-2894-4bee-bb46-2199c1fc374f"
      },
      "execution_count": null,
      "outputs": [
        {
          "output_type": "stream",
          "name": "stdout",
          "text": [
            "1\n",
            "\n",
            "\n",
            "2\n",
            "\n",
            "\n",
            "3\n",
            "\n",
            "\n",
            "4\n",
            "\n",
            "\n",
            "5\n",
            "\n",
            "\n",
            "6\n",
            "\n",
            "\n"
          ]
        }
      ]
    },
    {
      "cell_type": "code",
      "source": [
        "#matriz unidimensional horinzontal\n",
        "for i in range(1,7):\n",
        "  print(i, end=' ')"
      ],
      "metadata": {
        "colab": {
          "base_uri": "https://localhost:8080/"
        },
        "id": "bgMXe8mTxIe9",
        "outputId": "a70e8ad1-58bf-41ff-d475-cee702c45dfe"
      },
      "execution_count": null,
      "outputs": [
        {
          "output_type": "stream",
          "name": "stdout",
          "text": [
            "1 2 3 4 5 6 "
          ]
        }
      ]
    },
    {
      "cell_type": "markdown",
      "source": [
        "**OPERACIONES CON VECTORES**"
      ],
      "metadata": {
        "id": "D75Z10yVIBM9"
      }
    },
    {
      "cell_type": "code",
      "source": [
        "# Ejemplo en Python\n",
        "x = np.arange(1, 5) #genera un conjunto de números entre un valor de inicio y uno final\n",
        "y = np.array([2, 4, 6, 8])\n",
        "x, y"
      ],
      "metadata": {
        "colab": {
          "base_uri": "https://localhost:8080/"
        },
        "id": "MtdnYFdpIOuC",
        "outputId": "bd62e3b6-da5c-44a5-eb81-2e33d634b73b"
      },
      "execution_count": null,
      "outputs": [
        {
          "output_type": "execute_result",
          "data": {
            "text/plain": [
              "(array([1, 2, 3, 4]), array([2, 4, 6, 8]))"
            ]
          },
          "metadata": {},
          "execution_count": 170
        }
      ]
    },
    {
      "cell_type": "code",
      "source": [
        "#otros ejemplos de np.arange\n",
        "z= np.arange(2,10,3)\n",
        "z"
      ],
      "metadata": {
        "colab": {
          "base_uri": "https://localhost:8080/"
        },
        "id": "cSYxZ-jMJiIX",
        "outputId": "7dd76ee6-83e5-4bfe-a4d7-2767ea17ae88"
      },
      "execution_count": null,
      "outputs": [
        {
          "output_type": "execute_result",
          "data": {
            "text/plain": [
              "array([2, 5, 8])"
            ]
          },
          "metadata": {},
          "execution_count": 171
        }
      ]
    },
    {
      "cell_type": "code",
      "source": [
        "#otros ejemplos de np.arange\n",
        "z0= np.arange(0,10,2)\n",
        "z0"
      ],
      "metadata": {
        "colab": {
          "base_uri": "https://localhost:8080/"
        },
        "id": "8pnRpKNeqIpE",
        "outputId": "6e0aa05b-8536-4601-bd01-683af429f35a"
      },
      "execution_count": null,
      "outputs": [
        {
          "output_type": "execute_result",
          "data": {
            "text/plain": [
              "array([0, 2, 4, 6, 8])"
            ]
          },
          "metadata": {},
          "execution_count": 201
        }
      ]
    },
    {
      "cell_type": "code",
      "source": [
        "# otro ejemplo de uso np.arange\n",
        "z1= np.arange(5)\n",
        "z1"
      ],
      "metadata": {
        "colab": {
          "base_uri": "https://localhost:8080/"
        },
        "id": "CW5XyravJ0gi",
        "outputId": "e23bbbdd-5d58-4047-fb18-40e2aa68d9ba"
      },
      "execution_count": null,
      "outputs": [
        {
          "output_type": "execute_result",
          "data": {
            "text/plain": [
              "array([0, 1, 2, 3, 4])"
            ]
          },
          "metadata": {},
          "execution_count": 172
        }
      ]
    },
    {
      "cell_type": "code",
      "source": [
        "#realizando filtro\n",
        "z1<3"
      ],
      "metadata": {
        "colab": {
          "base_uri": "https://localhost:8080/"
        },
        "id": "vroJuwFEt7f_",
        "outputId": "8d9b3e08-7df5-44f6-a734-9d3dc81e1a70"
      },
      "execution_count": null,
      "outputs": [
        {
          "output_type": "execute_result",
          "data": {
            "text/plain": [
              "array([ True,  True,  True, False, False])"
            ]
          },
          "metadata": {},
          "execution_count": 213
        }
      ]
    },
    {
      "cell_type": "code",
      "source": [
        "z1[z1<3] #filtro, menores que tres"
      ],
      "metadata": {
        "colab": {
          "base_uri": "https://localhost:8080/"
        },
        "id": "g8bLsZhFuCkm",
        "outputId": "54c951d0-1503-4bd6-b64e-f15d9cbee3d2"
      },
      "execution_count": null,
      "outputs": [
        {
          "output_type": "execute_result",
          "data": {
            "text/plain": [
              "array([0, 1, 2])"
            ]
          },
          "metadata": {},
          "execution_count": 214
        }
      ]
    },
    {
      "cell_type": "code",
      "source": [
        "# sumando dos vectores numpy\n",
        "x + y"
      ],
      "metadata": {
        "colab": {
          "base_uri": "https://localhost:8080/"
        },
        "id": "yp5YGZdsIX1T",
        "outputId": "a0276801-a476-4235-9452-2947b75ed1aa"
      },
      "execution_count": null,
      "outputs": [
        {
          "output_type": "execute_result",
          "data": {
            "text/plain": [
              "array([ 3,  6,  9, 12])"
            ]
          },
          "metadata": {},
          "execution_count": 173
        }
      ]
    },
    {
      "cell_type": "code",
      "source": [
        "# restando dos vectores\n",
        "x - y"
      ],
      "metadata": {
        "colab": {
          "base_uri": "https://localhost:8080/"
        },
        "id": "hKviS1mVLhb4",
        "outputId": "7ca7977d-7cef-439e-a8d9-c80ea30205b2"
      },
      "execution_count": null,
      "outputs": [
        {
          "output_type": "execute_result",
          "data": {
            "text/plain": [
              "array([-1, -2, -3, -4])"
            ]
          },
          "metadata": {},
          "execution_count": 174
        }
      ]
    },
    {
      "cell_type": "code",
      "source": [
        "# multiplicando por un escalar\n",
        "x * 2"
      ],
      "metadata": {
        "colab": {
          "base_uri": "https://localhost:8080/"
        },
        "id": "ExOmDemtLnOX",
        "outputId": "b79a4f7f-78a2-49e6-8749-4a5047bdd515"
      },
      "execution_count": null,
      "outputs": [
        {
          "output_type": "execute_result",
          "data": {
            "text/plain": [
              "array([2, 4, 6, 8])"
            ]
          },
          "metadata": {},
          "execution_count": 175
        }
      ]
    },
    {
      "cell_type": "code",
      "source": [
        "y * 3"
      ],
      "metadata": {
        "colab": {
          "base_uri": "https://localhost:8080/"
        },
        "id": "CdMWny5pLyA-",
        "outputId": "0d7eb672-bba2-4d20-ee6a-ce008042df81"
      },
      "execution_count": null,
      "outputs": [
        {
          "output_type": "execute_result",
          "data": {
            "text/plain": [
              "array([ 6, 12, 18, 24])"
            ]
          },
          "metadata": {},
          "execution_count": 176
        }
      ]
    },
    {
      "cell_type": "code",
      "source": [
        "array_ceros= np.zeros(5)\n",
        "array_ceros"
      ],
      "metadata": {
        "colab": {
          "base_uri": "https://localhost:8080/"
        },
        "id": "aQaWSj9dpnVz",
        "outputId": "025c696d-cd71-4ec4-a43d-09823a98c4dd"
      },
      "execution_count": null,
      "outputs": [
        {
          "output_type": "execute_result",
          "data": {
            "text/plain": [
              "array([0., 0., 0., 0., 0.])"
            ]
          },
          "metadata": {},
          "execution_count": 200
        }
      ]
    },
    {
      "cell_type": "markdown",
      "source": [
        "**Producto escalar **"
      ],
      "metadata": {
        "id": "9Ds7h16CMFbv"
      }
    },
    {
      "cell_type": "code",
      "source": [
        "#El producto escalar de dos vectores se define como la suma de los productos de sus elementos"
      ],
      "metadata": {
        "id": "KZOcn5CnL0s9"
      },
      "execution_count": null,
      "outputs": []
    },
    {
      "cell_type": "code",
      "source": [
        "# Calculando el producto escalar de los vectores x e y\n",
        "x @ y"
      ],
      "metadata": {
        "colab": {
          "base_uri": "https://localhost:8080/"
        },
        "id": "OSZj5JucMLtD",
        "outputId": "a9cbb385-d1d1-4051-f2da-47055b0e0567"
      },
      "execution_count": null,
      "outputs": [
        {
          "output_type": "execute_result",
          "data": {
            "text/plain": [
              "60"
            ]
          },
          "metadata": {},
          "execution_count": 178
        }
      ]
    },
    {
      "cell_type": "code",
      "source": [
        "# hay dos formas de escribir el producto:\n",
        "sum(x * y), np.dot(x, y)"
      ],
      "metadata": {
        "colab": {
          "base_uri": "https://localhost:8080/"
        },
        "id": "m0BCoes9MRNT",
        "outputId": "57df77f3-b1ae-4ba1-f789-67d6ba08f356"
      },
      "execution_count": null,
      "outputs": [
        {
          "output_type": "execute_result",
          "data": {
            "text/plain": [
              "(60, 60)"
            ]
          },
          "metadata": {},
          "execution_count": 179
        }
      ]
    },
    {
      "cell_type": "markdown",
      "source": [
        "**Matrices**"
      ],
      "metadata": {
        "id": "hLe9L4TAUY0H"
      }
    },
    {
      "cell_type": "code",
      "source": [
        "#Python no tiene un tipo de dato incorporado para trabajar con matrices, sin embargo podemos tratar la matriz como una lista de listas,"
      ],
      "metadata": {
        "id": "nGeRSYihUVDP"
      },
      "execution_count": null,
      "outputs": []
    },
    {
      "cell_type": "code",
      "source": [
        "#Ejemplo de matrices\n",
        "C=[[1,2,0,4],\n",
        "   [5,6,3,7],\n",
        "   [3,8,9,10]]\n",
        "print(\"C=\",C)\n",
        "print(\"C[1]=\",C[1]) #segunda fila\n",
        "print(\"C[1][2]=\",C[1][2]) # tercer elemento de la segunda fila\n",
        "print(\"C[0][-1]=\",C[0][-1]) #último elemento de la primera fila\n"
      ],
      "metadata": {
        "colab": {
          "base_uri": "https://localhost:8080/"
        },
        "id": "mzc9HgU5VLMM",
        "outputId": "cde2f5c2-2b46-4dc4-c2c8-2e76f4aa17ad"
      },
      "execution_count": null,
      "outputs": [
        {
          "output_type": "stream",
          "name": "stdout",
          "text": [
            "C= [[1, 2, 0, 4], [5, 6, 3, 7], [3, 8, 9, 10]]\n",
            "C[1]= [5, 6, 3, 7]\n",
            "C[1][2]= 3\n",
            "C[0][-1]= 4\n"
          ]
        }
      ]
    },
    {
      "cell_type": "code",
      "source": [
        "#matriz bidimensional con un for anidado\n",
        "for i in range(1,7):\n",
        "    for j in range(1,7):\n",
        "        print(1, end=' ')\n",
        "    print(' ')"
      ],
      "metadata": {
        "colab": {
          "base_uri": "https://localhost:8080/"
        },
        "id": "mPneZZLax73Y",
        "outputId": "ff77d84b-a8e3-4da1-ff77-701de1238da5"
      },
      "execution_count": null,
      "outputs": [
        {
          "output_type": "stream",
          "name": "stdout",
          "text": [
            "1 1 1 1 1 1  \n",
            "1 1 1 1 1 1  \n",
            "1 1 1 1 1 1  \n",
            "1 1 1 1 1 1  \n",
            "1 1 1 1 1 1  \n",
            "1 1 1 1 1 1  \n"
          ]
        }
      ]
    },
    {
      "cell_type": "code",
      "source": [
        "#matriz bidimensional con un for anidado\n",
        "for i in range(1,7):\n",
        "    for j in range(1,7):\n",
        "        print(f'({i},{j})', end=' ')\n",
        "    print(' ')"
      ],
      "metadata": {
        "colab": {
          "base_uri": "https://localhost:8080/"
        },
        "id": "A5qlWGWm0QNc",
        "outputId": "07e8e99a-5c75-475f-cf96-bc101eaace4e"
      },
      "execution_count": null,
      "outputs": [
        {
          "output_type": "stream",
          "name": "stdout",
          "text": [
            "(1,1) (1,2) (1,3) (1,4) (1,5) (1,6)  \n",
            "(2,1) (2,2) (2,3) (2,4) (2,5) (2,6)  \n",
            "(3,1) (3,2) (3,3) (3,4) (3,5) (3,6)  \n",
            "(4,1) (4,2) (4,3) (4,4) (4,5) (4,6)  \n",
            "(5,1) (5,2) (5,3) (5,4) (5,5) (5,6)  \n",
            "(6,1) (6,2) (6,3) (6,4) (6,5) (6,6)  \n"
          ]
        }
      ]
    },
    {
      "cell_type": "code",
      "source": [
        "# Ejemplo en Python\n",
        "A = np.array([[1, 3, 2],\n",
        "              [1, 0, 0],\n",
        "              [1, 2, 2]])\n",
        "\n",
        "B = np.array([[1, 0, 5],\n",
        "              [7, 5, 0],\n",
        "              [2, 1, 1]])\n",
        "# suma de las matrices A y B\n",
        "A + B"
      ],
      "metadata": {
        "colab": {
          "base_uri": "https://localhost:8080/"
        },
        "id": "Bq8KVhsoPxrT",
        "outputId": "3e55ed61-2ff1-40fd-b465-08700d7b26d1"
      },
      "execution_count": null,
      "outputs": [
        {
          "output_type": "execute_result",
          "data": {
            "text/plain": [
              "array([[2, 3, 7],\n",
              "       [8, 5, 0],\n",
              "       [3, 3, 3]])"
            ]
          },
          "metadata": {},
          "execution_count": 207
        }
      ]
    },
    {
      "cell_type": "code",
      "source": [
        "A[0,0] #seleccionar el primer término"
      ],
      "metadata": {
        "colab": {
          "base_uri": "https://localhost:8080/"
        },
        "id": "UgpcAHM6sfda",
        "outputId": "add9a599-d3dc-499a-fd27-754c00ef6f9a"
      },
      "execution_count": null,
      "outputs": [
        {
          "output_type": "execute_result",
          "data": {
            "text/plain": [
              "1"
            ]
          },
          "metadata": {},
          "execution_count": 208
        }
      ]
    },
    {
      "cell_type": "code",
      "source": [
        "A[1,2] #seleccionar otro elemento"
      ],
      "metadata": {
        "colab": {
          "base_uri": "https://localhost:8080/"
        },
        "id": "jOeBt9FhsuOK",
        "outputId": "11722577-9a06-40ea-aabd-a122853a06ff"
      },
      "execution_count": null,
      "outputs": [
        {
          "output_type": "execute_result",
          "data": {
            "text/plain": [
              "0"
            ]
          },
          "metadata": {},
          "execution_count": 210
        }
      ]
    },
    {
      "cell_type": "code",
      "source": [
        "A[1,:] #seleccionar por fila"
      ],
      "metadata": {
        "colab": {
          "base_uri": "https://localhost:8080/"
        },
        "id": "PQiFiXSTs3Uc",
        "outputId": "7521bcf8-9d3e-457b-e7ef-396dd090d0b4"
      },
      "execution_count": null,
      "outputs": [
        {
          "output_type": "execute_result",
          "data": {
            "text/plain": [
              "array([1, 0, 0])"
            ]
          },
          "metadata": {},
          "execution_count": 211
        }
      ]
    },
    {
      "cell_type": "code",
      "source": [
        "A[:,1]#seleccionar por columna"
      ],
      "metadata": {
        "colab": {
          "base_uri": "https://localhost:8080/"
        },
        "id": "v3l007VutQ5C",
        "outputId": "71c27631-82a6-403b-ed9e-9686f34a84f8"
      },
      "execution_count": null,
      "outputs": [
        {
          "output_type": "execute_result",
          "data": {
            "text/plain": [
              "array([3, 0, 2])"
            ]
          },
          "metadata": {},
          "execution_count": 212
        }
      ]
    },
    {
      "cell_type": "code",
      "source": [
        "# resta de matrices\n",
        "A - B"
      ],
      "metadata": {
        "colab": {
          "base_uri": "https://localhost:8080/"
        },
        "id": "PeZq6M1qP-DA",
        "outputId": "8630ae2d-ca69-4a6d-ef59-f98c31aaec3a"
      },
      "execution_count": null,
      "outputs": [
        {
          "output_type": "execute_result",
          "data": {
            "text/plain": [
              "array([[ 0,  3, -3],\n",
              "       [-6, -5,  0],\n",
              "       [-1,  1,  1]])"
            ]
          },
          "metadata": {},
          "execution_count": 183
        }
      ]
    },
    {
      "cell_type": "code",
      "source": [
        "# multiplicando matrices por escalares\n",
        "A * 2"
      ],
      "metadata": {
        "colab": {
          "base_uri": "https://localhost:8080/"
        },
        "id": "CNoEoDaXQFSG",
        "outputId": "ac10ede0-cee1-4004-9f0b-4702becb5aaf"
      },
      "execution_count": null,
      "outputs": [
        {
          "output_type": "execute_result",
          "data": {
            "text/plain": [
              "array([[2, 6, 4],\n",
              "       [2, 0, 0],\n",
              "       [2, 4, 4]])"
            ]
          },
          "metadata": {},
          "execution_count": 184
        }
      ]
    },
    {
      "cell_type": "code",
      "source": [
        "B * 3"
      ],
      "metadata": {
        "colab": {
          "base_uri": "https://localhost:8080/"
        },
        "id": "kzvary_MQHQ6",
        "outputId": "10c50bb6-e0ee-4250-eaa1-37808b5d6568"
      },
      "execution_count": null,
      "outputs": [
        {
          "output_type": "execute_result",
          "data": {
            "text/plain": [
              "array([[ 3,  0, 15],\n",
              "       [21, 15,  0],\n",
              "       [ 6,  3,  3]])"
            ]
          },
          "metadata": {},
          "execution_count": 185
        }
      ]
    },
    {
      "cell_type": "code",
      "source": [
        "# ver la dimension de una matriz\n",
        "A.shape"
      ],
      "metadata": {
        "colab": {
          "base_uri": "https://localhost:8080/"
        },
        "id": "uR8icERLQNW9",
        "outputId": "7f8b1710-6549-4f79-fd76-c8179aab3389"
      },
      "execution_count": null,
      "outputs": [
        {
          "output_type": "execute_result",
          "data": {
            "text/plain": [
              "(3, 3)"
            ]
          },
          "metadata": {},
          "execution_count": 186
        }
      ]
    },
    {
      "cell_type": "code",
      "source": [
        "# ver cantidad de elementos de una matriz\n",
        "A.size"
      ],
      "metadata": {
        "colab": {
          "base_uri": "https://localhost:8080/"
        },
        "id": "OwMLlHwZQSST",
        "outputId": "60f642cc-44d5-4c4d-a8c1-11493e3deed8"
      },
      "execution_count": null,
      "outputs": [
        {
          "output_type": "execute_result",
          "data": {
            "text/plain": [
              "9"
            ]
          },
          "metadata": {},
          "execution_count": 187
        }
      ]
    },
    {
      "cell_type": "code",
      "source": [
        "# Ejemplo multiplicación de matrices\n",
        "A = np.arange(1, 13).reshape(3, 4) #matriz de dimension 3x4\n",
        "A"
      ],
      "metadata": {
        "colab": {
          "base_uri": "https://localhost:8080/"
        },
        "id": "gIB_8x8rQWuO",
        "outputId": "28f99c59-0298-4696-ec1a-7b397d13a589"
      },
      "execution_count": null,
      "outputs": [
        {
          "output_type": "execute_result",
          "data": {
            "text/plain": [
              "array([[ 1,  2,  3,  4],\n",
              "       [ 5,  6,  7,  8],\n",
              "       [ 9, 10, 11, 12]])"
            ]
          },
          "metadata": {},
          "execution_count": 188
        }
      ]
    },
    {
      "cell_type": "code",
      "source": [
        "B = np.arange(8).reshape(4,2) #matriz de dimension 4x2\n",
        "B"
      ],
      "metadata": {
        "colab": {
          "base_uri": "https://localhost:8080/"
        },
        "id": "1KGE0rADQb1T",
        "outputId": "7f38d10f-4ef9-4df7-e9ec-1ee7828730d6"
      },
      "execution_count": null,
      "outputs": [
        {
          "output_type": "execute_result",
          "data": {
            "text/plain": [
              "array([[0, 1],\n",
              "       [2, 3],\n",
              "       [4, 5],\n",
              "       [6, 7]])"
            ]
          },
          "metadata": {},
          "execution_count": 189
        }
      ]
    },
    {
      "cell_type": "code",
      "source": [
        "# Multiplicando A x B\n",
        "A @ B #resulta en una matriz de dimension 3x2"
      ],
      "metadata": {
        "colab": {
          "base_uri": "https://localhost:8080/"
        },
        "id": "MZEc9CCIQlEo",
        "outputId": "0b46c314-080c-420d-bb21-f91d0d89a623"
      },
      "execution_count": null,
      "outputs": [
        {
          "output_type": "execute_result",
          "data": {
            "text/plain": [
              "array([[ 40,  50],\n",
              "       [ 88, 114],\n",
              "       [136, 178]])"
            ]
          },
          "metadata": {},
          "execution_count": 190
        }
      ]
    },
    {
      "cell_type": "code",
      "source": [
        "# Multiplicando B x A\n",
        "#B @ A"
      ],
      "metadata": {
        "id": "pSwvViF1Q6QX"
      },
      "execution_count": null,
      "outputs": []
    },
    {
      "cell_type": "markdown",
      "source": [
        "**La matriz identidad, la matriz inversa, la matriz transpuesta y el determinante**"
      ],
      "metadata": {
        "id": "mgXJB-7WS-n0"
      }
    },
    {
      "cell_type": "code",
      "source": [
        "# Creando una matriz identidad de 2x2\n",
        "I = np.eye(2)\n",
        "I"
      ],
      "metadata": {
        "colab": {
          "base_uri": "https://localhost:8080/"
        },
        "id": "Hfjt0yASTIiV",
        "outputId": "67268207-7b9a-4de2-dfdb-714fbce3e415"
      },
      "execution_count": null,
      "outputs": [
        {
          "output_type": "execute_result",
          "data": {
            "text/plain": [
              "array([[1., 0.],\n",
              "       [0., 1.]])"
            ]
          },
          "metadata": {},
          "execution_count": 192
        }
      ]
    },
    {
      "cell_type": "code",
      "source": [
        "# Multiplicar una matriz por la identidad nos da la misma matriz\n",
        "A = np.array([[4, 7],\n",
        "              [2, 6]])\n",
        "A"
      ],
      "metadata": {
        "colab": {
          "base_uri": "https://localhost:8080/"
        },
        "id": "Ml7ZNCaLTKAN",
        "outputId": "0fb0b71b-aba0-410c-e4de-793f275b64b2"
      },
      "execution_count": null,
      "outputs": [
        {
          "output_type": "execute_result",
          "data": {
            "text/plain": [
              "array([[4, 7],\n",
              "       [2, 6]])"
            ]
          },
          "metadata": {},
          "execution_count": 193
        }
      ]
    },
    {
      "cell_type": "code",
      "source": [
        "A @ I # AxI = A"
      ],
      "metadata": {
        "colab": {
          "base_uri": "https://localhost:8080/"
        },
        "id": "VJ7x-K99TRmP",
        "outputId": "f2334b4f-357b-49bd-e264-b0c6b352a07f"
      },
      "execution_count": null,
      "outputs": [
        {
          "output_type": "execute_result",
          "data": {
            "text/plain": [
              "array([[4., 7.],\n",
              "       [2., 6.]])"
            ]
          },
          "metadata": {},
          "execution_count": 194
        }
      ]
    },
    {
      "cell_type": "code",
      "source": [
        "# Calculando el determinante de la matriz A\n",
        "np.linalg.det(A)"
      ],
      "metadata": {
        "colab": {
          "base_uri": "https://localhost:8080/"
        },
        "id": "pigTcHBaTVV7",
        "outputId": "c55c88e7-0a2b-4205-c45e-9ac2fc0d8a98"
      },
      "execution_count": null,
      "outputs": [
        {
          "output_type": "execute_result",
          "data": {
            "text/plain": [
              "10.000000000000002"
            ]
          },
          "metadata": {},
          "execution_count": 195
        }
      ]
    },
    {
      "cell_type": "code",
      "source": [
        "# Calculando la inversa de A.\n",
        "A_inv = np.linalg.inv(A)\n",
        "A_inv"
      ],
      "metadata": {
        "colab": {
          "base_uri": "https://localhost:8080/"
        },
        "id": "8fffaAKtTfHL",
        "outputId": "94c67235-3fb5-45df-a52e-15746a99198b"
      },
      "execution_count": null,
      "outputs": [
        {
          "output_type": "execute_result",
          "data": {
            "text/plain": [
              "array([[ 0.6, -0.7],\n",
              "       [-0.2,  0.4]])"
            ]
          },
          "metadata": {},
          "execution_count": 196
        }
      ]
    },
    {
      "cell_type": "code",
      "source": [
        "# A x A_inv nos da como resultado I.\n",
        "A @ A_inv"
      ],
      "metadata": {
        "colab": {
          "base_uri": "https://localhost:8080/"
        },
        "id": "Cs9Z8AaSTlm9",
        "outputId": "3896843c-159f-4e29-bb3c-94b79f2cf64d"
      },
      "execution_count": null,
      "outputs": [
        {
          "output_type": "execute_result",
          "data": {
            "text/plain": [
              "array([[ 1.00000000e+00, -1.11022302e-16],\n",
              "       [ 1.11022302e-16,  1.00000000e+00]])"
            ]
          },
          "metadata": {},
          "execution_count": 197
        }
      ]
    },
    {
      "cell_type": "code",
      "source": [
        "# Trasponiendo una matriz\n",
        "A = np.arange(6).reshape(3, 2)\n",
        "A"
      ],
      "metadata": {
        "colab": {
          "base_uri": "https://localhost:8080/"
        },
        "id": "dwmYfmLvT2-S",
        "outputId": "adc7e01c-07f5-4832-8ed2-3578d72e026e"
      },
      "execution_count": null,
      "outputs": [
        {
          "output_type": "execute_result",
          "data": {
            "text/plain": [
              "array([[0, 1],\n",
              "       [2, 3],\n",
              "       [4, 5]])"
            ]
          },
          "metadata": {},
          "execution_count": 198
        }
      ]
    },
    {
      "cell_type": "code",
      "source": [
        "np.transpose(A)"
      ],
      "metadata": {
        "colab": {
          "base_uri": "https://localhost:8080/"
        },
        "id": "pj2f5Kw7T4-S",
        "outputId": "6a87ff32-d845-4b03-a870-2c27caeb7c55"
      },
      "execution_count": null,
      "outputs": [
        {
          "output_type": "execute_result",
          "data": {
            "text/plain": [
              "array([[0, 2, 4],\n",
              "       [1, 3, 5]])"
            ]
          },
          "metadata": {},
          "execution_count": 199
        }
      ]
    }
  ]
}